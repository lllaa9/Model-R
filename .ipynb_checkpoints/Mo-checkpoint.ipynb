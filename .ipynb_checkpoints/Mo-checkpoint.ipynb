{
 "cells": [
  {
   "cell_type": "code",
   "execution_count": 1,
   "id": "8fff878c",
   "metadata": {},
   "outputs": [],
   "source": [
    "import numpy as np\n",
    "import pandas as pd \n",
    "import matplotlib as mpl\n",
    "import matplotlib.pyplot as plt\n",
    "import sklearn\n",
    "from sklearn.preprocessing import MinMaxScaler\n",
    "from sklearn.preprocessing import LabelBinarizer\n",
    "import lightgbm as lgb\n",
    "\n",
    "%matplotlib inline\n",
    "\n",
    "import warnings\n",
    "warnings.filterwarnings('ignore')"
   ]
  },
  {
   "cell_type": "code",
   "execution_count": 2,
   "id": "62c563ef",
   "metadata": {},
   "outputs": [],
   "source": [
    "from sklearn.preprocessing import LabelEncoder"
   ]
  },
  {
   "cell_type": "code",
   "execution_count": 3,
   "id": "36013170",
   "metadata": {},
   "outputs": [],
   "source": [
    "from sklearn import ensemble"
   ]
  },
  {
   "cell_type": "code",
   "execution_count": 4,
   "id": "c52b6298",
   "metadata": {},
   "outputs": [],
   "source": [
    "import seaborn as sns"
   ]
  },
  {
   "cell_type": "code",
   "execution_count": 5,
   "id": "0a8854e6",
   "metadata": {},
   "outputs": [],
   "source": [
    "from sklearn.metrics import mean_squared_error\n",
    "from sklearn.metrics import r2_score\n"
   ]
  },
  {
   "cell_type": "code",
   "execution_count": 6,
   "id": "8a0598c1",
   "metadata": {},
   "outputs": [],
   "source": [
    "train = pd.read_csv('d1.csv')\n",
    "#test = pd.read_csv('d2.csv')"
   ]
  },
  {
   "cell_type": "code",
   "execution_count": 7,
   "id": "509fbce7",
   "metadata": {},
   "outputs": [],
   "source": [
    "# nan_list = train.isnull().sum().tolist()\n",
    "# print(nan_list)\n",
    "# print(sum(nan_list))\n",
    "\n",
    "# inf_list = np.isinf(train).sum().tolist()\n",
    "# print(inf_list)\n",
    "# print(sum(inf_list))\n"
   ]
  },
  {
   "cell_type": "code",
   "execution_count": 126,
   "id": "a9291f73",
   "metadata": {
    "scrolled": true
   },
   "outputs": [],
   "source": [
    "#test_y = test['Degradation rate'].values"
   ]
  },
  {
   "cell_type": "code",
   "execution_count": 127,
   "id": "afb42efe",
   "metadata": {},
   "outputs": [],
   "source": [
    "#test.drop(columns='Degradation rate', axis=1, inplace=True)"
   ]
  },
  {
   "cell_type": "code",
   "execution_count": 128,
   "id": "125eb015",
   "metadata": {},
   "outputs": [],
   "source": [
    "number_col = [ col for col in train.columns if train[col].dtype != 'object']\n",
    "\n",
    "category_col = [ col for col in train.columns if train[col].dtype == 'object']"
   ]
  },
  {
   "cell_type": "code",
   "execution_count": 129,
   "id": "2438481e",
   "metadata": {},
   "outputs": [],
   "source": [
    "LE = LabelEncoder()\n",
    "\n",
    "for col in category_col:\n",
    "    train[col] = LE.fit_transform(train[col])\n",
    "    #test[col] = LE.fit_transform(test[col])\n",
    "    "
   ]
  },
  {
   "cell_type": "code",
   "execution_count": 130,
   "id": "fc74b9ac",
   "metadata": {
    "collapsed": true
   },
   "outputs": [
    {
     "data": {
      "text/plain": [
       "Dopant                           False\n",
       "Dopant/Ti mole ratio              True\n",
       "Calcination temperature           True\n",
       "Pollutant                        False\n",
       "Catalyst/Pollutant mass ratio     True\n",
       "pH                                True\n",
       "Experimental temperature          True\n",
       "Light wavelength                  True\n",
       "Illumination time                 True\n",
       "dtype: bool"
      ]
     },
     "execution_count": 130,
     "metadata": {},
     "output_type": "execute_result"
    }
   ],
   "source": [
    "#test.all()"
   ]
  },
  {
   "cell_type": "code",
   "execution_count": 131,
   "id": "5dbc76fe",
   "metadata": {
    "scrolled": true
   },
   "outputs": [],
   "source": [
    "x = train.drop(columns='Degradation rate', axis=1).values\n",
    "y = train['Degradation rate'].values\n"
   ]
  },
  {
   "cell_type": "code",
   "execution_count": 132,
   "id": "74741516",
   "metadata": {},
   "outputs": [],
   "source": [
    "from sklearn.model_selection import train_test_split\n",
    "\n",
    "xtrain, xtest, ytrain, ytest = train_test_split(x, y, test_size=0.3, shuffle=True,random_state=42)\n"
   ]
  },
  {
   "cell_type": "code",
   "execution_count": 134,
   "id": "67423b68",
   "metadata": {},
   "outputs": [
    {
     "name": "stdout",
     "output_type": "stream",
     "text": [
      "R2: 0.0479415842000121\n"
     ]
    }
   ],
   "source": [
    "from sklearn.linear_model import LinearRegression\n",
    "from sklearn.metrics import mean_squared_error\n",
    "from sklearn.metrics import mean_absolute_error\n",
    "from sklearn.model_selection import KFold\n",
    "kf = KFold(n_splits=10)\n",
    "mse_scores = []\n",
    "rmse_scores = []\n",
    "mae_scores = []\n",
    "r2_scores = []\n",
    "for train_indices, test_indices in kf.split(xtrain):\n",
    "    x_train, x_test = xtrain[train_indices], xtrain[test_indices]\n",
    "    y_train, y_test = ytrain[train_indices], ytrain[test_indices]\n",
    "    LR = LinearRegression(normalize=True)\n",
    "    LR.fit(x_train, y_train)\n",
    "    y_pred = LR.predict(x_test)\n",
    "#     MSE = mean_squared_error(np.log(y_test), np.log(y_pred))\n",
    "#     RMSE = np.sqrt(mean_squared_error(np.log(y_test), np.log(y_pred)))\n",
    "#     MAE = mean_absolute_error(np.log(y_test), np.log(y_pred))\n",
    "    R2 = r2_score(y_test,y_pred)\n",
    "#     mse_scores.append(MSE)\n",
    "#     rmse_scores.append(RMSE)\n",
    "#     mae_scores.append(MAE)\n",
    "    r2_scores.append(R2)\n",
    "\n",
    "# print(f'MSE: {np.mean(mse_scores)}')\n",
    "# print(f'RMSE: {np.mean(rmse_scores)}')\n",
    "# print(f'MAE: {np.mean(mae_scores)}')\n",
    "print(f'R2: {np.mean(r2_scores)}')\n"
   ]
  },
  {
   "cell_type": "code",
   "execution_count": 24,
   "id": "f5624067",
   "metadata": {
    "collapsed": true
   },
   "outputs": [
    {
     "data": {
      "image/png": "[encoded data removed]",
      "text/plain": [
       "<Figure size 360x360 with 1 Axes>"
      ]
     },
     "metadata": {
      "needs_background": "light"
     },
     "output_type": "display_data"
    }
   ],
   "source": [
    "plt.rc('font',family='Times New Roman')\n",
    "plt.figure(figsize=(5,5))\n",
    "plt.scatter(y_pred,y_test,color = '#6A5ACD')\n",
    "plt.ylim((-4,110))\n",
    "x = [0,100] \n",
    "y = x\n",
    "plt.xticks(fontsize=25)\n",
    "plt.yticks(fontsize=25)\n",
    "plt.plot(x,y,color = 'grey',linewidth = '3',linestyle='--')\n",
    "# plt.ylabel('Degradation rate(%) \\n Experimental',fontsize=25)\n",
    "# plt.xlabel('Degradation rate(%) \\n Linear Regression',fontsize=25)\n",
    "#plt.savefig('E:/111/lr1.jpg',bbox_inches = 'tight', dpi=300)\n",
    "\n",
    "plt.show()"
   ]
  },
  {
   "cell_type": "code",
   "execution_count": 135,
   "id": "8e31f9d4",
   "metadata": {},
   "outputs": [
    {
     "name": "stdout",
     "output_type": "stream",
     "text": [
      "R2: 0.8050145051249329\n"
     ]
    }
   ],
   "source": [
    "from sklearn.ensemble import RandomForestRegressor\n",
    "from sklearn.model_selection import KFold\n",
    "kf = KFold(n_splits=10)\n",
    "mse_scores = []\n",
    "rmse_scores = []\n",
    "mae_scores = []\n",
    "r2_scores = []\n",
    "for train_indices, test_indices in kf.split(xtrain):\n",
    "    x_train, x_test = xtrain[train_indices], xtrain[test_indices]\n",
    "    y_train, y_test = ytrain[train_indices], ytrain[test_indices]\n",
    "    RFR = RandomForestRegressor()\n",
    "    RFR.fit(x_train, y_train)\n",
    "    y_pred = RFR.predict(x_test)\n",
    "#     MSE = mean_squared_error(np.log(y_test), np.log(y_pred))\n",
    "#     RMSE = np.sqrt(mean_squared_error(np.log(y_test), np.log(y_pred)))\n",
    "#     MAE = mean_absolute_error(np.log(y_test), np.log(y_pred))\n",
    "    R2 = r2_score(y_test,y_pred)\n",
    "#     mse_scores.append(MSE)\n",
    "#     rmse_scores.append(RMSE)\n",
    "#     mae_scores.append(MAE)\n",
    "    r2_scores.append(R2) \n",
    "      \n",
    "# print(f'MSE: {np.mean(mse_scores)}')\n",
    "# print(f'RMSE: {np.mean(rmse_scores)}')\n",
    "# print(f'MAE: {np.mean(mae_scores)}')\n",
    "print(f'R2: {np.mean(r2_scores)}')\n",
    "  "
   ]
  },
  {
   "cell_type": "code",
   "execution_count": 109,
   "id": "fdd8e238",
   "metadata": {},
   "outputs": [
    {
     "data": {
      "image/png": "[encoded data removed]",
      "text/plain": [
       "<Figure size 360x360 with 1 Axes>"
      ]
     },
     "metadata": {
      "needs_background": "light"
     },
     "output_type": "display_data"
    }
   ],
   "source": [
    "plt.figure(figsize=(5,5))\n",
    "plt.scatter(y_pred,y_test,color = '#6A5ACD')\n",
    "plt.ylim((-4,110))\n",
    "x = [0,100] \n",
    "y = x\n",
    "plt.xticks(fontsize=25)\n",
    "plt.yticks(fontsize=25)\n",
    "plt.plot(x,y,color = 'grey',linewidth = '3',linestyle='--')\n",
    "#plt.ylabel('Degradation rate(%)-Experimental',fontsize=15)\n",
    "#plt.xlabel('Degradation rate(%) \\n Random Forest',fontsize=25)\n",
    "plt.savefig('D:/1.jpg',bbox_inches = 'tight', dpi=300)\n",
    "\n",
    "plt.show()"
   ]
  },
  {
   "cell_type": "code",
   "execution_count": 136,
   "id": "6d301dd3",
   "metadata": {},
   "outputs": [
    {
     "name": "stdout",
     "output_type": "stream",
     "text": [
      "R2: 0.8845298737635746\n"
     ]
    }
   ],
   "source": [
    "import xgboost as xgb\n",
    "from sklearn.model_selection import KFold\n",
    "\n",
    "kf = KFold(n_splits=10)\n",
    "\n",
    "mse_scores = []\n",
    "rmse_scores = []\n",
    "mae_scores = []\n",
    "r2_scores = []\n",
    "\n",
    "for train_indices, test_indices in kf.split(xtrain):\n",
    "    x_train, x_test = xtrain[train_indices], xtrain[test_indices]\n",
    "    y_train, y_test = ytrain[train_indices], ytrain[test_indices]\n",
    "    XGBR = xgb.XGBRegressor()\n",
    "    XGBR.fit(x_train, y_train)\n",
    "    y_pred = XGBR.predict(x_test)\n",
    "#     MSE = mean_squared_error(np.log(y_test), np.log(y_pred))\n",
    "#     RMSE = np.sqrt(mean_squared_error(np.log(y_test), np.log(y_pred)))\n",
    "#     MAE = mean_absolute_error(np.log(y_test), np.log(y_pred))\n",
    "    R2 = r2_score(y_test,y_pred)\n",
    "#     mse_scores.append(MSE)\n",
    "#     rmse_scores.append(RMSE)\n",
    "#     mae_scores.append(MAE)\n",
    "    r2_scores.append(R2)\n",
    "    \n",
    "# print(f'MSE: {np.mean(mse_scores)}')\n",
    "# print(f'RMSE: {np.mean(rmse_scores)}')\n",
    "# print(f'MAE: {np.mean(mae_scores)}')\n",
    "print(f'R2: {np.mean(r2_scores)}')"
   ]
  },
  {
   "cell_type": "code",
   "execution_count": 104,
   "id": "96e3e180",
   "metadata": {
    "scrolled": true
   },
   "outputs": [
    {
     "data": {
      "image/png": "[encoded data removed]",
      "text/plain": [
       "<Figure size 360x360 with 1 Axes>"
      ]
     },
     "metadata": {
      "needs_background": "light"
     },
     "output_type": "display_data"
    }
   ],
   "source": [
    "plt.figure(figsize=(5,5))\n",
    "plt.scatter(y_pred,y_test,color = '#6A5ACD')\n",
    "plt.ylim((-4,110))\n",
    "x = [0,100] \n",
    "y = x\n",
    "plt.xticks(fontsize=25)\n",
    "plt.yticks(fontsize=25)\n",
    "plt.plot(x,y,color = 'grey',linewidth = '3',linestyle='--')\n",
    "#plt.savefig('E:/111/xgb1.jpg',bbox_inches = 'tight', dpi=300)\n",
    "\n",
    "plt.show()"
   ]
  }
 ],
 "metadata": {
  "kernelspec": {
   "display_name": "Python 3 (ipykernel)",
   "language": "python",
   "name": "python3"
  },
  "language_info": {
   "codemirror_mode": {
    "name": "ipython",
    "version": 3
   },
   "file_extension": ".py",
   "mimetype": "text/x-python",
   "name": "python",
   "nbconvert_exporter": "python",
   "pygments_lexer": "ipython3",
   "version": "3.9.12"
  }
 },
 "nbformat": 4,
 "nbformat_minor": 5
}
